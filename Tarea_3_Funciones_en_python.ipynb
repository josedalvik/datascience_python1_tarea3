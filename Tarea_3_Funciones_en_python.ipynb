{
  "nbformat": 4,
  "nbformat_minor": 0,
  "metadata": {
    "colab": {
      "name": "Tarea-3-Funciones-en-python.ipynb",
      "provenance": [],
      "include_colab_link": true
    },
    "kernelspec": {
      "name": "python3",
      "display_name": "Python 3"
    },
    "language_info": {
      "name": "python"
    }
  },
  "cells": [
    {
      "cell_type": "markdown",
      "metadata": {
        "id": "view-in-github",
        "colab_type": "text"
      },
      "source": [
        "<a href=\"https://colab.research.google.com/github/josedalvik/datascience_python1_tarea3/blob/main/Tarea_3_Funciones_en_python.ipynb\" target=\"_parent\"><img src=\"https://colab.research.google.com/assets/colab-badge.svg\" alt=\"Open In Colab\"/></a>"
      ]
    },
    {
      "cell_type": "markdown",
      "source": [
        "**Universidad Galileo <br/>\n",
        "Maestría de Ciencia de Datos <br/>\n",
        "Ciencia de Datos en Python <br/>\n",
        "Jose Godoy <br/>\n",
        "Carnet 22000570 <br/>\n",
        "17 de febrero 2022 <br/>**"
      ],
      "metadata": {
        "id": "ScFVRt0axEG6"
      }
    },
    {
      "cell_type": "markdown",
      "source": [
        "# Función en Python\n",
        "\n",
        "Una función es un bloque de código que puede ser reutilizado varias veces en un programa, es posible definir parametros de entrada, establecer valores predeterminados a estos valores, y puede retornar un valor de resultado. Las funciones se definen con la palabra \"def\" segudio del nombre de la función, parentesis y dentro de estos los valores que la función acepta como entrada; a continuación la función debe de llevar dos puntos y aumentar un nivel de indentación.\n"
      ],
      "metadata": {
        "id": "45DsQwjrxOSZ"
      }
    },
    {
      "cell_type": "code",
      "source": [
        "#Ejemplo de función\n",
        "\n",
        "def suma(a, b):\n",
        "  return a + b\n",
        "\n",
        "c = suma(3,2)\n",
        "print ( c )\n",
        "\n",
        "print ( suma( c , 1) )"
      ],
      "metadata": {
        "colab": {
          "base_uri": "https://localhost:8080/"
        },
        "id": "OPL5GYKR0r6d",
        "outputId": "395d87bd-d298-4193-83ae-bda855da825a"
      },
      "execution_count": null,
      "outputs": [
        {
          "output_type": "stream",
          "name": "stdout",
          "text": [
            "5\n",
            "6\n"
          ]
        }
      ]
    },
    {
      "cell_type": "markdown",
      "source": [
        "# Parámetros posicionales\n",
        "\n",
        "Cuando se define una función se definen los parametros que puede recibir, estos parametros se definen en un orden específico, y en ese orden deben de ser enviados los valores al momento de invocar a la función. Parámetros posicionales es invocar a una función enviando sus valores en el orden definido por la función."
      ],
      "metadata": {
        "id": "rcL5bVax4NhA"
      }
    },
    {
      "cell_type": "code",
      "source": [
        "#Ejemplo de parametros posicionales con función de potencia\n",
        "def potencia(base, exponente):\n",
        "  print(base, \" elevado a \", exponente, \" es \", base**exponente)\n",
        "\n",
        "potencia(3, 2)\n"
      ],
      "metadata": {
        "colab": {
          "base_uri": "https://localhost:8080/"
        },
        "id": "Gd_EphX25p31",
        "outputId": "93b3350f-dc3d-473d-d152-6079c2fd22ea"
      },
      "execution_count": null,
      "outputs": [
        {
          "output_type": "stream",
          "name": "stdout",
          "text": [
            "3  elevado a  2  es  9\n"
          ]
        }
      ]
    },
    {
      "cell_type": "markdown",
      "source": [
        "# Parámetros nombrados\n",
        "\n",
        "Los parametros posicionales permiten enviar los parametros de la función en diferente orden, para esto es necesario seguir el formato: nombre_variable = valor."
      ],
      "metadata": {
        "id": "eV0wTBc82AX_"
      }
    },
    {
      "cell_type": "code",
      "source": [
        "#Ejemplo de uso de función potencia, enviando el orden de diferente forma con parámetros nombrados\n",
        "potencia(exponente=2, base = 3)"
      ],
      "metadata": {
        "colab": {
          "base_uri": "https://localhost:8080/"
        },
        "id": "KKKPNJdA3IBr",
        "outputId": "363fb0f7-5153-4858-9476-5cf39e579934"
      },
      "execution_count": null,
      "outputs": [
        {
          "output_type": "stream",
          "name": "stdout",
          "text": [
            "3  elevado a  2  es  9\n"
          ]
        }
      ]
    },
    {
      "cell_type": "markdown",
      "source": [
        "En este ejemplo se observa que se enviaron los valores de la variable en orden inverso, si hacemos esto sin indicar el nombre de la variable, retornará un resultado incorrecto."
      ],
      "metadata": {
        "id": "jtidOd1B3hnn"
      }
    },
    {
      "cell_type": "markdown",
      "source": [
        "# Retorno de múltiples valores\n",
        "\n",
        "En python es posible retornar múltiples valores en una función de diferentes formas:\n",
        "\n",
        "1.   Tuplas\n",
        "2.   Lista\n",
        "3.   Diccionario de datos\n",
        "4.   Python Data Class\n",
        "5.   Objetos\n",
        "\n",
        "Para retornar tuplas, es suficiente con enviar los valores separado por comas, por ejemplo: \n",
        "\n",
        "```\n",
        "return 1, 2\n",
        "```\n",
        "\n",
        "Para devolver los valores en una lista, se utilizan corchetes:\n",
        "\n",
        "```\n",
        "return [1, 2]\n",
        "```\n",
        "\n",
        "Para devolver utilizando un diccionario de datos:\n",
        "\n",
        "```\n",
        "return {\"a\": 1, \"b\": 2}\n",
        "```\n",
        "\n",
        "Para devolver los datos utilizando Python Data Class y Objetos la sintaxis es muy similar, básicamente se define una clase, se instancia, se le asignan valores y se devuelve. A continuación un ejemplo práctico:\n",
        "\n",
        "\n"
      ],
      "metadata": {
        "id": "UCaoFueM6fIJ"
      }
    },
    {
      "cell_type": "code",
      "source": [
        "# Creación del objeto carro para almacenar información enviada por el usuario y calculada en la función registrar_carro\n",
        "\n",
        "class carro:\n",
        "  def __init__(self, color, modelo, impuesto):\n",
        "    self.color = color\n",
        "    self.modelo = modelo\n",
        "    self.impuesto = impuesto\n",
        "\n",
        "def registrar_carro(color, modelo):\n",
        "\n",
        "  impuesto = 75\n",
        "  if( modelo > 2020):\n",
        "    impuesto = 350\n",
        "\n",
        "  return carro(color, modelo, impuesto)\n",
        "\n",
        "mi_carro = registrar_carro(\"azul\", 2022)\n",
        "print(\"Su impuesto de circulación: \", mi_carro.impuesto)\n"
      ],
      "metadata": {
        "colab": {
          "base_uri": "https://localhost:8080/"
        },
        "id": "6nUXVcp99Qc_",
        "outputId": "ed31e1a7-1367-4818-9da8-c5f8e8d73b09"
      },
      "execution_count": null,
      "outputs": [
        {
          "output_type": "stream",
          "name": "stdout",
          "text": [
            "Su impuesto de circulación:  350\n"
          ]
        }
      ]
    },
    {
      "cell_type": "markdown",
      "source": [
        "# Funciones como objetos y como parámetros de otras funciones\n",
        "\n",
        "Las funciones se pueden guardar como referencia en una variable, bajo este mismo concepto una variable que hace referencia a una función puede enviarse como parámetro a otra función.\n",
        "\n",
        "A continuación un ejemplo:"
      ],
      "metadata": {
        "id": "eICMp_36-vfd"
      }
    },
    {
      "cell_type": "code",
      "source": [
        "# Esta función calcula el precio final del producto (agregando el IVA)\n",
        "def precio_final( calculo, regimen, precio ):\n",
        "  iva = calculo(regimen)\n",
        "  return round( precio * (iva + 1) , 2 )\n",
        "\n",
        "# Esta función envía el IVA a cobrar si es regimen general o pequeño contribuyente\n",
        "def impuesto_del_iva( regimen ):\n",
        "    if( regimen == \"general\"):\n",
        "      return 0.12\n",
        "    else:\n",
        "      return 0.05\n",
        "\n",
        "# Calculo del IVA\n",
        "print( precio_final(impuesto_del_iva, \"general\", 1040) )\n",
        "\n"
      ],
      "metadata": {
        "colab": {
          "base_uri": "https://localhost:8080/"
        },
        "id": "qOZOaFcs_Xa8",
        "outputId": "5648eded-4200-4435-d5cd-0ad58b7ba6f7"
      },
      "execution_count": null,
      "outputs": [
        {
          "output_type": "stream",
          "name": "stdout",
          "text": [
            "1164.8\n"
          ]
        }
      ]
    },
    {
      "cell_type": "markdown",
      "source": [
        "# Funciones anónimas o lambda\n",
        "\n",
        "Las funciones anónimas no se definen con la palabra def, no tiene parentesis y no posee un bloque de código a ejecutar, una función anónima o lambda se debe definir en una sola lína de código, y se debe de almacenar en una variable para poder ejecutarla."
      ],
      "metadata": {
        "id": "N0r9VU3mDAeh"
      }
    },
    {
      "cell_type": "code",
      "source": [
        "# Ejemplo de cálculo del IVA\n",
        "\n",
        "iva = lambda regimen : 0.12 if regimen == \"general\" else 0.05\n",
        "\n",
        "# Calculo del IVA\n",
        "print( precio_final(iva, \"general\", 1040) )\n",
        "\n"
      ],
      "metadata": {
        "colab": {
          "base_uri": "https://localhost:8080/"
        },
        "id": "eWLguqwLD_x0",
        "outputId": "b4c49c67-2057-461b-bda4-5d2bd45cca30"
      },
      "execution_count": null,
      "outputs": [
        {
          "output_type": "stream",
          "name": "stdout",
          "text": [
            "1164.8\n"
          ]
        }
      ]
    }
  ]
}